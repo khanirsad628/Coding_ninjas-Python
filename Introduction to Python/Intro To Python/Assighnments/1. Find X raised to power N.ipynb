{
 "cells": [
  {
   "cell_type": "markdown",
   "metadata": {},
   "source": [
    "# Find X raised to power N"
   ]
  },
  {
   "cell_type": "markdown",
   "metadata": {},
   "source": [
    "<div class=\"alert alert-block alert-info\">\n",
    "<b>Question:</b>You are given two integers: X and N.<br> You have to calculate X raised to power N and print it.<br>The first line of input contains an integer X (1 <= X <= 100) <br>\n",
    "The second line of input contains an integer N (1 <= N <= 10).<br>Constraints:<br>Time Limit: 1 second<br>Output format:<br>The first and only line of output contains the result.  <br>\n",
    "</div>"
   ]
  },
  {
   "cell_type": "code",
   "execution_count": 1,
   "metadata": {},
   "outputs": [
    {
     "name": "stdout",
     "output_type": "stream",
     "text": [
      "10\n",
      "2\n",
      "100\n"
     ]
    }
   ],
   "source": [
    "# Write your code he\n",
    "X = int(input())\n",
    "N = int(input())\n",
    "print(X**N)\n",
    "#print(pow(X,N))"
   ]
  },
  {
   "cell_type": "code",
   "execution_count": null,
   "metadata": {},
   "outputs": [],
   "source": []
  }
 ],
 "metadata": {
  "kernelspec": {
   "display_name": "Python 3",
   "language": "python",
   "name": "python3"
  },
  "language_info": {
   "codemirror_mode": {
    "name": "ipython",
    "version": 3
   },
   "file_extension": ".py",
   "mimetype": "text/x-python",
   "name": "python",
   "nbconvert_exporter": "python",
   "pygments_lexer": "ipython3",
   "version": "3.7.8"
  }
 },
 "nbformat": 4,
 "nbformat_minor": 4
}
