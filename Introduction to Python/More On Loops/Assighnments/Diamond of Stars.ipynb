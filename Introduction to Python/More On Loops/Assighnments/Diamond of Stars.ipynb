{
 "cells": [
  {
   "cell_type": "markdown",
   "metadata": {},
   "source": [
    "# Diamond of Stars"
   ]
  },
  {
   "cell_type": "raw",
   "metadata": {},
   "source": [
    "n = 5\n",
    "   *\n",
    "  ***\n",
    " *****\n",
    "  ***\n",
    "   *"
   ]
  },
  {
   "cell_type": "code",
   "execution_count": 6,
   "metadata": {},
   "outputs": [
    {
     "name": "stdout",
     "output_type": "stream",
     "text": [
      "3\n",
      "  *\n",
      " ***\n",
      "*****\n",
      " ***\n",
      "  *\n"
     ]
    }
   ],
   "source": [
    "n = int(input())\n",
    "i = 1\n",
    "while(i<n+1):\n",
    "    spaces = 0\n",
    "    while(spaces<n-i):\n",
    "        print(\" \",end='')\n",
    "        spaces = spaces+1\n",
    "    j = (2*i)-1\n",
    "    while(j>0):\n",
    "        print(\"*\",end='')\n",
    "        j = j-1\n",
    "    print()\n",
    "    i = i+1\n",
    "i = n-1\n",
    "while(i>0):\n",
    "    spaces=0\n",
    "    while(spaces<n-i):\n",
    "        print(\" \",end='')\n",
    "        spaces = spaces+1\n",
    "    j = 2*i-1\n",
    "    while(j>0):\n",
    "        print(\"*\",end=\"\")\n",
    "        j = j-1\n",
    "    print()\n",
    "    i = i-1\n",
    "    "
   ]
  },
  {
   "cell_type": "code",
   "execution_count": null,
   "metadata": {},
   "outputs": [],
   "source": []
  }
 ],
 "metadata": {
  "kernelspec": {
   "display_name": "Python 3",
   "language": "python",
   "name": "python3"
  },
  "language_info": {
   "codemirror_mode": {
    "name": "ipython",
    "version": 3
   },
   "file_extension": ".py",
   "mimetype": "text/x-python",
   "name": "python",
   "nbconvert_exporter": "python",
   "pygments_lexer": "ipython3",
   "version": "3.7.8"
  }
 },
 "nbformat": 4,
 "nbformat_minor": 4
}
