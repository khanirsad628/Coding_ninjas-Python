{
 "cells": [
  {
   "cell_type": "markdown",
   "metadata": {},
   "source": [
    "# Pattern Using For Loop"
   ]
  },
  {
   "cell_type": "raw",
   "metadata": {},
   "source": [
    "darw the pattern \n",
    "for n = 4\n",
    "...1              3 spaces\n",
    "..232             2 spaces\n",
    ".34543            1 spaces\n",
    "4567654           0 spaces\n"
   ]
  },
  {
   "cell_type": "code",
   "execution_count": 3,
   "metadata": {},
   "outputs": [
    {
     "name": "stdout",
     "output_type": "stream",
     "text": [
      "4\n",
      "   1\n",
      "  232\n",
      " 34543\n",
      "4567654\n"
     ]
    }
   ],
   "source": [
    "n = int(input())\n",
    "i = 1\n",
    "spaces = n-1\n",
    "while(i<=n):\n",
    "    j=i\n",
    "    s = 1\n",
    "    while(s<=spaces):\n",
    "        print(' ',end='')\n",
    "        s = s+1\n",
    "    while(j<=(2*i)-1):\n",
    "        print(j,end='')\n",
    "        j = j+1\n",
    "    if i>=2:\n",
    "        k=(2*i)-2\n",
    "        while(k>=i):\n",
    "            print(k,end='')\n",
    "            k = k-1\n",
    "    print()\n",
    "    spaces = spaces-1\n",
    "    i = i+1\n",
    "    "
   ]
  },
  {
   "cell_type": "code",
   "execution_count": null,
   "metadata": {},
   "outputs": [],
   "source": []
  }
 ],
 "metadata": {
  "kernelspec": {
   "display_name": "Python 3",
   "language": "python",
   "name": "python3"
  },
  "language_info": {
   "codemirror_mode": {
    "name": "ipython",
    "version": 3
   },
   "file_extension": ".py",
   "mimetype": "text/x-python",
   "name": "python",
   "nbconvert_exporter": "python",
   "pygments_lexer": "ipython3",
   "version": "3.7.8"
  }
 },
 "nbformat": 4,
 "nbformat_minor": 4
}
