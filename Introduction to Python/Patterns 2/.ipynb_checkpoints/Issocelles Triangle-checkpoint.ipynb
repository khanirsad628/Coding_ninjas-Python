{
 "cells": [
  {
   "cell_type": "markdown",
   "metadata": {},
   "source": [
    "# Issocesles Triangle "
   ]
  },
  {
   "cell_type": "raw",
   "metadata": {},
   "source": [
    "for n = 4\n",
    "    1\n",
    "   121\n",
    "  12321\n",
    " 1234231\n",
    " \n",
    " \n",
    "# it contais\n",
    "1 . No of spaces\n",
    "2 . increasing seq\n",
    "    1\n",
    "   12\n",
    "  123\n",
    " 1234\n",
    "\n",
    "3. Decreasing seq\n",
    "     1\n",
    "     21\n",
    "     321"
   ]
  },
  {
   "cell_type": "code",
   "execution_count": 1,
   "metadata": {},
   "outputs": [
    {
     "name": "stdout",
     "output_type": "stream",
     "text": [
      "4\n",
      "   1\n",
      "  121\n",
      " 12321\n",
      "1234321\n"
     ]
    }
   ],
   "source": [
    "n = int(input())\n",
    "i = 1\n",
    "while(i<=n):\n",
    "    # print spaces\n",
    "    spaces = 1\n",
    "    while(spaces<=n-i):\n",
    "        print(' ',end='')\n",
    "        spaces = spaces+1\n",
    "    # increasing seq\n",
    "    j=1\n",
    "    while(j<=i):\n",
    "        print(j,end='')\n",
    "        j = j+1\n",
    "    # descreasing seq\n",
    "    p = i-1\n",
    "    while(p>=1):\n",
    "        print(p,end='')\n",
    "        p = p-1\n",
    "    print()\n",
    "    i = i+1"
   ]
  },
  {
   "cell_type": "code",
   "execution_count": null,
   "metadata": {},
   "outputs": [],
   "source": []
  }
 ],
 "metadata": {
  "kernelspec": {
   "display_name": "Python 3",
   "language": "python",
   "name": "python3"
  },
  "language_info": {
   "codemirror_mode": {
    "name": "ipython",
    "version": 3
   },
   "file_extension": ".py",
   "mimetype": "text/x-python",
   "name": "python",
   "nbconvert_exporter": "python",
   "pygments_lexer": "ipython3",
   "version": "3.7.8"
  }
 },
 "nbformat": 4,
 "nbformat_minor": 4
}
