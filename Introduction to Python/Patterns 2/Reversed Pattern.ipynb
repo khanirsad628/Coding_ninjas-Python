{
 "cells": [
  {
   "cell_type": "markdown",
   "metadata": {},
   "source": [
    "# Reversed Pattern"
   ]
  },
  {
   "cell_type": "raw",
   "metadata": {},
   "source": [
    "draw reversed Pattern<br>\n",
    "for n = 4<br>\n",
    "   *    --> total spaces 3\n",
    "  **    --> total spaces 2\n",
    " ***    -->total spaces 1\n",
    "****    -->total spaces 0"
   ]
  },
  {
   "cell_type": "code",
   "execution_count": 5,
   "metadata": {},
   "outputs": [
    {
     "name": "stdout",
     "output_type": "stream",
     "text": [
      "4\n",
      "    *\n",
      "   **\n",
      "  ***\n",
      " ****\n"
     ]
    }
   ],
   "source": [
    "n = int(input())\n",
    "i = 1\n",
    "k = n\n",
    "while(i<=n):\n",
    "    s = 0\n",
    "    while(s<k):\n",
    "        print(' ',end='')\n",
    "        s = s+1\n",
    "    j = s\n",
    "    while(j<=n):\n",
    "        print('*',end='')\n",
    "        j = j+1\n",
    "    k = k-1\n",
    "    print()\n",
    "    i = i+1\n",
    "    "
   ]
  },
  {
   "cell_type": "code",
   "execution_count": null,
   "metadata": {},
   "outputs": [],
   "source": []
  }
 ],
 "metadata": {
  "kernelspec": {
   "display_name": "Python 3",
   "language": "python",
   "name": "python3"
  },
  "language_info": {
   "codemirror_mode": {
    "name": "ipython",
    "version": 3
   },
   "file_extension": ".py",
   "mimetype": "text/x-python",
   "name": "python",
   "nbconvert_exporter": "python",
   "pygments_lexer": "ipython3",
   "version": "3.7.8"
  }
 },
 "nbformat": 4,
 "nbformat_minor": 4
}
