{
 "cells": [
  {
   "cell_type": "markdown",
   "metadata": {},
   "source": [
    "# Triangle of Numbers"
   ]
  },
  {
   "cell_type": "raw",
   "metadata": {},
   "source": [
    "     1\n",
    "    232\n",
    "   34543\n",
    "  4567654"
   ]
  },
  {
   "cell_type": "code",
   "execution_count": 20,
   "metadata": {},
   "outputs": [
    {
     "name": "stdout",
     "output_type": "stream",
     "text": [
      "4\n",
      "   1\n",
      "  232\n",
      " 34543\n",
      "4567654\n"
     ]
    }
   ],
   "source": [
    "n = int(input())\n",
    "i = 1\n",
    "while(i<=n):\n",
    "    spaces = 1\n",
    "    while(spaces<=n-i):\n",
    "        print(' ',end='')\n",
    "        spaces = spaces+1\n",
    "    \n",
    "    k = i\n",
    "    j=1\n",
    "    while(j<=i):\n",
    "        print(k,end='')\n",
    "        k=k+1\n",
    "        j = j+1\n",
    "    dec = k-2\n",
    "    while(dec>1):\n",
    "        if dec==i:\n",
    "            print(dec,end='')\n",
    "            break\n",
    "        else:\n",
    "            print(dec,end='')\n",
    "        dec = dec-1\n",
    "    print()\n",
    "    i = i+1"
   ]
  },
  {
   "cell_type": "code",
   "execution_count": 11,
   "metadata": {},
   "outputs": [
    {
     "name": "stdout",
     "output_type": "stream",
     "text": [
      "4\n",
      "   1\n",
      "  232\n",
      " 34543\n",
      "4567654\n"
     ]
    }
   ],
   "source": [
    "n = int(input())\n",
    "currRow = 1\n",
    "while currRow <= n:\n",
    "    spaces = 1\n",
    "    while spaces <= (n - currRow) :\n",
    "        print(\" \", end = \"\")\n",
    "        spaces += 1\n",
    "    currCol = 1\n",
    "    valToPrint = currRow\n",
    "    while currCol <= currRow :\n",
    "        print(valToPrint, end = \"\")\n",
    "        valToPrint += 1\n",
    "        currCol += 1\n",
    "    currCol = 1\n",
    "    valToPrint = 2 * currRow - 2 \n",
    "    while currCol <= currRow - 1 :\n",
    "        print(valToPrint, end = \"\")\n",
    "        valToPrint -= 1\n",
    "        currCol += 1 \n",
    "    print()\n",
    "    currRow += 1"
   ]
  },
  {
   "cell_type": "code",
   "execution_count": null,
   "metadata": {},
   "outputs": [],
   "source": []
  }
 ],
 "metadata": {
  "kernelspec": {
   "display_name": "Python 3",
   "language": "python",
   "name": "python3"
  },
  "language_info": {
   "codemirror_mode": {
    "name": "ipython",
    "version": 3
   },
   "file_extension": ".py",
   "mimetype": "text/x-python",
   "name": "python",
   "nbconvert_exporter": "python",
   "pygments_lexer": "ipython3",
   "version": "3.7.8"
  }
 },
 "nbformat": 4,
 "nbformat_minor": 4
}
