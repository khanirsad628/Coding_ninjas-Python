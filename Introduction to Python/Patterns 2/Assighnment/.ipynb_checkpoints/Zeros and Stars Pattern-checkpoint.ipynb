{
 "cells": [
  {
   "cell_type": "markdown",
   "metadata": {},
   "source": [
    "# Zeros and Stars Pattern"
   ]
  },
  {
   "cell_type": "markdown",
   "metadata": {},
   "source": [
    "<div class=\"alert alert-block alert-info\">\n",
    "<b>Question:</b> Print the following pattern<br>\n",
    "Pattern for N = 4<br>\n",
    "*000*000*<br>\n",
    "0*00*00*0<br>\n",
    "00*0*0*00<br>\n",
    "000***000<br>\n",
    "</div>"
   ]
  },
  {
   "cell_type": "code",
   "execution_count": 20,
   "metadata": {},
   "outputs": [
    {
     "name": "stdout",
     "output_type": "stream",
     "text": [
      "4\n",
      "*000*000*\n",
      "0*00*00*0\n",
      "00*0*0*00\n",
      "000***000\n"
     ]
    }
   ],
   "source": [
    "n = int(input())\n",
    "i = 1\n",
    "o = n\n",
    "while(i<=n):\n",
    "    k = i\n",
    "    j = 1\n",
    "    count = 0\n",
    "    while(j<=(2*n)+1):\n",
    "        if k==j and count<=2:\n",
    "            print('*',end='')\n",
    "            count = count+1\n",
    "            k=k+o\n",
    "        else:\n",
    "            print(0,end='')\n",
    "        j = j+1\n",
    "    print()\n",
    "    o = o-1\n",
    "    i = i+1"
   ]
  },
  {
   "cell_type": "code",
   "execution_count": null,
   "metadata": {},
   "outputs": [],
   "source": []
  }
 ],
 "metadata": {
  "kernelspec": {
   "display_name": "Python 3",
   "language": "python",
   "name": "python3"
  },
  "language_info": {
   "codemirror_mode": {
    "name": "ipython",
    "version": 3
   },
   "file_extension": ".py",
   "mimetype": "text/x-python",
   "name": "python",
   "nbconvert_exporter": "python",
   "pygments_lexer": "ipython3",
   "version": "3.7.8"
  }
 },
 "nbformat": 4,
 "nbformat_minor": 4
}
