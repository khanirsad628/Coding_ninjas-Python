{
 "cells": [
  {
   "cell_type": "markdown",
   "metadata": {},
   "source": [
    "# Diamond of stars"
   ]
  },
  {
   "cell_type": "raw",
   "metadata": {},
   "source": [
    "n = 5 ( n can only be odd)\n",
    "      *\n",
    "     ***\n",
    "    *****\n",
    "     ***\n",
    "      *\n",
    "      \n",
    "first we will create first half"
   ]
  },
  {
   "cell_type": "code",
   "execution_count": 11,
   "metadata": {},
   "outputs": [
    {
     "name": "stdout",
     "output_type": "stream",
     "text": [
      "5\n",
      "    *\n",
      "   ***\n",
      "  *****\n",
      "4\n"
     ]
    }
   ],
   "source": [
    "# first half \n",
    "n = int(input())\n",
    "i = 1\n",
    "firsthalf = (n//2)+1  ## first half will be 3 for n=5\n",
    "while(i<=firsthalf):\n",
    "    #print spaces\n",
    "    spaces = 1\n",
    "    while(spaces<=n-i):\n",
    "        print(\" \",end='')\n",
    "        spaces = spaces+1\n",
    "    k = (2*i)-1\n",
    "    j=1\n",
    "    while(j<=k):\n",
    "        print(\"*\",end='')\n",
    "        j = j+1\n",
    "    print()\n",
    "    i = i+1\n",
    "    \n",
    "#secondhalf = firsthalf+1\n",
    "secondhalf = i\n",
    "while(i<=n):\n",
    "    spaces = 1\n",
    "    while(spaces<=(i-secondhalf)+1):\n",
    "        print(\" \",end='')\n",
    "        spaces = spaces+1\n",
    "    "
   ]
  },
  {
   "cell_type": "code",
   "execution_count": 10,
   "metadata": {},
   "outputs": [
    {
     "name": "stdout",
     "output_type": "stream",
     "text": [
      "5\n",
      "  *\n",
      " ***\n",
      "*****\n",
      " ***\n",
      "  *\n"
     ]
    }
   ],
   "source": [
    "## Read input as specified in the question.\n",
    "## Print output as specified in the question.\n",
    "n = int(input())\n",
    "firstHalf = (n + 1) // 2\n",
    "secondHalf = n // 2\n",
    "#First Half\n",
    "currRow = 1 \n",
    "while currRow <= firstHalf:\n",
    "    spaces = 1 \n",
    "    while spaces <= (firstHalf - currRow) :\n",
    "        print(\" \", end = \"\")\n",
    "        spaces += 1\n",
    "    currCol = 1\n",
    "    while currCol <= (2 * currRow) - 1 :\n",
    "        print(\"*\", end = \"\")\n",
    "        currCol += 1\n",
    "        \n",
    "    print()\n",
    "    currRow += 1\n",
    "#Second Half \n",
    "currRow = secondHalf \n",
    "while currRow >= 1 :\n",
    "    spaces = 1\n",
    "    while spaces <= (secondHalf - currRow + 1) :\n",
    "        print(\" \", end = \"\") \n",
    "        spaces += 1\n",
    "    currCol = 1 \n",
    "    while currCol <= (2 * currRow) - 1 :\n",
    "        print(\"*\", end = \"\") \n",
    "        currCol += 1\n",
    "    \n",
    "    print()\n",
    "    currRow -= 1"
   ]
  },
  {
   "cell_type": "code",
   "execution_count": null,
   "metadata": {},
   "outputs": [],
   "source": []
  }
 ],
 "metadata": {
  "kernelspec": {
   "display_name": "Python 3",
   "language": "python",
   "name": "python3"
  },
  "language_info": {
   "codemirror_mode": {
    "name": "ipython",
    "version": 3
   },
   "file_extension": ".py",
   "mimetype": "text/x-python",
   "name": "python",
   "nbconvert_exporter": "python",
   "pygments_lexer": "ipython3",
   "version": "3.7.8"
  }
 },
 "nbformat": 4,
 "nbformat_minor": 4
}
