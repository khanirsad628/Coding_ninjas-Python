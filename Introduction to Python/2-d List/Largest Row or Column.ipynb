{
 "cells": [
  {
   "cell_type": "markdown",
   "metadata": {},
   "source": [
    "# Largest Row or Column"
   ]
  },
  {
   "cell_type": "raw",
   "metadata": {},
   "source": [
    "For a given two-dimensional integer array/list of size (N x M), you need to find out which row or column has the largest sum(sum of all the elements in a row/column) amongst all the rows and columns.\n",
    "Note :\n",
    "If there are more than one rows/columns with maximum sum, consider the row/column that comes first. And if ith row and jth column has the same largest sum, consider the ith row as answer.\n",
    "Input Format :\n",
    "The first line contains an Integer 't' which denotes the number of test cases or queries to be run. Then the test cases follow.\n",
    "\n",
    "First line of each test case or query contains two integer values, 'N' and 'M', separated by a single space. They represent the 'rows' and 'columns' respectively, for the two-dimensional array/list.\n",
    "\n",
    "Second line onwards, the next 'N' lines or rows represent the ith row values.\n",
    "\n",
    "Each of the ith row constitutes 'M' column values separated by a single space.\n",
    "Output Format :\n",
    "For each test case, If row sum is maximum, then print: \"row\" <row_index> <row_sum>\n",
    "OR\n",
    "If column sum is maximum, then print: \"column\" <col_index> <col_sum>\n",
    "It will be printed in a single line separated by a single space between each piece of information.\n",
    "\n",
    "Output for every test case will be printed in a seperate line.\n",
    " Consider :\n",
    "If there doesn't exist a sum at all then print \"row 0 -2147483648\", where -2147483648 or -2^31 is the smallest value for the range of Integer.\n",
    "Constraints :\n",
    "1 <= t <= 10^2\n",
    "0 <= N <= 10^3\n",
    "0 <= M <= 10^3\n",
    "Time Limit: 1sec\n",
    "Sample Input 1 :\n",
    "1\n",
    "2 2 \n",
    "1 1 \n",
    "1 1\n",
    "Sample Output 1 :\n",
    "row 0 2\n",
    "Sample Input 2 :\n",
    "2\n",
    "3 3\n",
    "3 6 9 \n",
    "1 4 7 \n",
    "2 8 9\n",
    "4 2\n",
    "1 2\n",
    "90 100\n",
    "3 40\n",
    "-10 200\n",
    "Sample Output 2 :\n",
    "column 2 25\n",
    "column 1 342"
   ]
  },
  {
   "cell_type": "code",
   "execution_count": 2,
   "metadata": {},
   "outputs": [
    {
     "name": "stdout",
     "output_type": "stream",
     "text": [
      "[6, 18, 25]\n"
     ]
    }
   ],
   "source": [
    "arr = [[3,6,9],[1,4,7],[2,8,9]]\n",
    "l = []\n",
    "for j in range(0,len(arr)):\n",
    "    s = 0\n",
    "    for i in range(0,len(arr[j])):\n",
    "        s = s+arr[i][j]\n",
    "    l.append(s)\n",
    "print(l)\n",
    "        \n",
    "    "
   ]
  },
  {
   "cell_type": "code",
   "execution_count": 14,
   "metadata": {},
   "outputs": [
    {
     "name": "stdout",
     "output_type": "stream",
     "text": [
      "0\n",
      "1\n",
      "2\n",
      "3\n",
      "2   190\n"
     ]
    }
   ],
   "source": [
    "arr = [[4,2],[1,2],[90,100],[3,40]]\n",
    "def findLargest(arr):\n",
    "    l = []\n",
    "    for j in range(0,len(arr)):\n",
    "        print(j)\n",
    "        s = 0\n",
    "        for i in range(0,len(arr[j])):\n",
    "            s = s+arr[j][i]\n",
    "        l.append(s)\n",
    "    maxi = l[0]\n",
    "    ind = 0\n",
    "    for i in range(0,len(l)):\n",
    "        if maxi<=l[i]:\n",
    "            maxi =l[i]\n",
    "            ind = i\n",
    "    print(ind,\" \",maxi)\n",
    "findLargest(arr)   "
   ]
  },
  {
   "cell_type": "code",
   "execution_count": 3,
   "metadata": {},
   "outputs": [
    {
     "name": "stdout",
     "output_type": "stream",
     "text": [
      "[98, 144]\n",
      "1 1\n"
     ]
    }
   ],
   "source": [
    "arr = [[4,2],[1,2],[90,100],[3,40]]\n",
    "def findLargest(arr, nRows, mCols):\n",
    "    l = []\n",
    "    for i in range(len(arr[0])):\n",
    "        s = 0\n",
    "        for ele in arr:\n",
    "            s = s+ele[i]\n",
    "        l.append(s)\n",
    "    \n",
    "    maxi = -2147483647\n",
    "    ind = 0\n",
    "    print(l)\n",
    "    for i in range(0,len(l)):\n",
    "        if maxi<=l[i]:\n",
    "            maxi = i\n",
    "            ind = i\n",
    "    print(str(ind)+\" \"+str(maxi))\n",
    "    \n",
    "findLargest(arr, 4, 2)"
   ]
  },
  {
   "cell_type": "code",
   "execution_count": 6,
   "metadata": {},
   "outputs": [
    {
     "name": "stdout",
     "output_type": "stream",
     "text": [
      "[98, 144]\n",
      "1 144\n"
     ]
    }
   ],
   "source": [
    "def findLargest(arr):\n",
    "    col_sum = [sum([row[i] for row in arr]) for i in range(0,len(arr[0]))]\n",
    "    maxi = -2147483648\n",
    "    ind = 0\n",
    "    for i in range(0,len(col_sum)):\n",
    "        if maxi<=col_sum[i]:\n",
    "            maxi = col_sum[i]\n",
    "            ind = i\n",
    "    print(col_sum)\n",
    "    print(str(ind)+\" \"+str(maxi))\n",
    "\n",
    "findLargest(arr)"
   ]
  },
  {
   "cell_type": "code",
   "execution_count": null,
   "metadata": {},
   "outputs": [],
   "source": []
  }
 ],
 "metadata": {
  "kernelspec": {
   "display_name": "Python 3",
   "language": "python",
   "name": "python3"
  },
  "language_info": {
   "codemirror_mode": {
    "name": "ipython",
    "version": 3
   },
   "file_extension": ".py",
   "mimetype": "text/x-python",
   "name": "python",
   "nbconvert_exporter": "python",
   "pygments_lexer": "ipython3",
   "version": "3.7.8"
  }
 },
 "nbformat": 4,
 "nbformat_minor": 4
}
