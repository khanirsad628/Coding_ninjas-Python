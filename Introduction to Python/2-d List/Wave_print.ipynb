{
 "cells": [
  {
   "cell_type": "markdown",
   "metadata": {},
   "source": [
    "# Wave Print 2 D Array"
   ]
  },
  {
   "cell_type": "raw",
   "metadata": {},
   "source": [
    "For a given two-dimensional integer array/list of size (N x M), print the array/list in a sine wave order, i.e, print the first column top to bottom, next column bottom to top and so on.\n",
    "Input format :\n",
    "The first line contains an Integer 't' which denotes the number of test cases or queries to be run. Then the test cases follow.\n",
    "\n",
    "First line of each test case or query contains two integer values, 'N' and 'M', separated by a single space. They represent the 'rows' and 'columns' respectively, for the two-dimensional array/list.\n",
    "\n",
    "Second line onwards, the next 'N' lines or rows represent the ith row values.\n",
    "\n",
    "Each of the ith row constitutes 'M' column values separated by a single space.\n",
    "Output format :\n",
    "For each test case, print the elements of the two-dimensional array/list in the sine wave order in a single line, separated by a single space.\n",
    "\n",
    "Output for every test case will be printed in a seperate line.\n",
    "Constraints :\n",
    "1 <= t <= 10^2\n",
    "0 <= N <= 10^3\n",
    "0 <= M <= 10^3\n",
    "Time Limit: 1sec\n",
    "Sample Input 1:\n",
    "1\n",
    "3 4 \n",
    "1  2  3  4 \n",
    "5  6  7  8 \n",
    "9 10 11 12\n",
    "Sample Output 1:\n",
    "1 5 9 10 6 2 3 7 11 12 8 4\n",
    "Sample Input 2:\n",
    "2\n",
    "5 3 \n",
    "1 2 3 \n",
    "4 5 6 \n",
    "7 8 9 \n",
    "10 11 12 \n",
    "13 14 15\n",
    "3 3\n",
    "10 20 30 \n",
    "40 50 60\n",
    "70 80 90\n",
    "Sample Output 2:\n",
    "1 4 7 10 13 14 11 8 5 2 3 6 9 12 15 \n",
    "10 40 70 80 50 20 30 60 90 "
   ]
  },
  {
   "cell_type": "code",
   "execution_count": 22,
   "metadata": {},
   "outputs": [
    {
     "name": "stdout",
     "output_type": "stream",
     "text": [
      "10 40 70 80 50 20 30 60 90 "
     ]
    }
   ],
   "source": [
    "\n",
    "\n",
    "l = [[10,20,30],[40,50,60],[70,80,90]]\n",
    "m = 3\n",
    "n = 5\n",
    "i=0\n",
    "while(i<len(l[0])):\n",
    "    k=0\n",
    "    if i%2==0:\n",
    "        j=0\n",
    "        while(j<len(l)):\n",
    "            print(l[j][i],end=\" \")\n",
    "            j=j+1\n",
    "    else:\n",
    "        j=len(l)-1\n",
    "        while(j>=0):\n",
    "            print(l[j][i],end=\" \")\n",
    "            j = j-1\n",
    "    i = i+1\n",
    "    \n",
    "    \n",
    "    \n",
    "    "
   ]
  },
  {
   "cell_type": "code",
   "execution_count": null,
   "metadata": {},
   "outputs": [],
   "source": []
  }
 ],
 "metadata": {
  "kernelspec": {
   "display_name": "Python 3",
   "language": "python",
   "name": "python3"
  },
  "language_info": {
   "codemirror_mode": {
    "name": "ipython",
    "version": 3
   },
   "file_extension": ".py",
   "mimetype": "text/x-python",
   "name": "python",
   "nbconvert_exporter": "python",
   "pygments_lexer": "ipython3",
   "version": "3.7.8"
  }
 },
 "nbformat": 4,
 "nbformat_minor": 4
}
