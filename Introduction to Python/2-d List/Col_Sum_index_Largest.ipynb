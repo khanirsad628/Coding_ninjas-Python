{
 "cells": [
  {
   "cell_type": "markdown",
   "metadata": {},
   "source": [
    "# Col_Sum_index_Largest\n"
   ]
  },
  {
   "cell_type": "code",
   "execution_count": 7,
   "metadata": {},
   "outputs": [
    {
     "name": "stdout",
     "output_type": "stream",
     "text": [
      "2\n"
     ]
    }
   ],
   "source": [
    "def lar(li):\n",
    "    l = []\n",
    "    for j in range(len(li[0])):\n",
    "        sum = 0\n",
    "        for i in range(len(li)):\n",
    "            sum = sum+li[i][j]\n",
    "        l.append(sum)\n",
    "    return l.index(max(l))\n",
    "            \n",
    "\n",
    "l = [[1, 2, 3], [4, 5, 6], [7, 8, 9]]\n",
    "print(lar(l))"
   ]
  },
  {
   "cell_type": "code",
   "execution_count": null,
   "metadata": {},
   "outputs": [],
   "source": []
  }
 ],
 "metadata": {
  "kernelspec": {
   "display_name": "Python 3",
   "language": "python",
   "name": "python3"
  },
  "language_info": {
   "codemirror_mode": {
    "name": "ipython",
    "version": 3
   },
   "file_extension": ".py",
   "mimetype": "text/x-python",
   "name": "python",
   "nbconvert_exporter": "python",
   "pygments_lexer": "ipython3",
   "version": "3.7.8"
  }
 },
 "nbformat": 4,
 "nbformat_minor": 4
}
