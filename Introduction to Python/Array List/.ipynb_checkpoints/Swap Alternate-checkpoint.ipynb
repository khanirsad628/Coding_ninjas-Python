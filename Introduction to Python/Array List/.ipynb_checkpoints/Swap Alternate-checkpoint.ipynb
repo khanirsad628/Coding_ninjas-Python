{
 "cells": [
  {
   "cell_type": "markdown",
   "metadata": {},
   "source": [
    "# Swap Alternate"
   ]
  },
  {
   "cell_type": "raw",
   "metadata": {},
   "source": [
    "You have been given an array/list(ARR) of size N. You need to swap every pair of alternate elements in the array/list.\n",
    "You don't need to print or return anything, just change in the input array itself.\n",
    "Input Format :\n",
    "The first line contains an Integer 't' which denotes the number of test cases or queries to be run. Then the test cases follow.\n",
    "\n",
    "First line of each test case or query contains an integer 'N' representing the size of the array/list.\n",
    "\n",
    "Second line contains 'N' single space separated integers representing the elements in the array/list.\n",
    "Output Format :\n",
    "For each test case, print the elements of the resulting array in a single row separated by a single space.\n",
    "\n",
    "Output for every test case will be printed in a separate line.\n",
    "Constraints :\n",
    "1 <= t <= 10^2\n",
    "0 <= N <= 10^5\n",
    "Time Limit: 1sec\n",
    "Sample Input 1:\n",
    "1\n",
    "6\n",
    "9 3 6 12 4 32\n",
    "Sample Output 1 :\n",
    "3 9 12 6 32 4\n",
    "Sample Input 2:\n",
    "2\n",
    "9\n",
    "9 3 6 12 4 32 5 11 19\n",
    "4\n",
    "1 2 3 4\n",
    "Sample Output 2 :\n",
    "3 9 12 6 32 4 11 5 19 \n",
    "2 1 4 3 "
   ]
  },
  {
   "cell_type": "code",
   "execution_count": 7,
   "metadata": {},
   "outputs": [
    {
     "name": "stdout",
     "output_type": "stream",
     "text": [
      "[2, 1, 4, 3]\n"
     ]
    }
   ],
   "source": [
    "def swapAlternate(arr, n) :\n",
    "    if len(arr)%2==0:\n",
    "        l = len(arr)\n",
    "    else:\n",
    "        l = len(arr)-1\n",
    "\n",
    "    i=0\n",
    "    while(i<l):\n",
    "        arr[i],arr[i+1]=arr[i+1],arr[i]\n",
    "        i=i+2\n",
    "\n",
    "arr = [9,3,6,12,4,32,5,11,19]\n",
    "arr1 = [1,2,3,4]\n",
    "swapAlternate(arr1, 10)\n",
    "print(arr1)\n"
   ]
  },
  {
   "cell_type": "code",
   "execution_count": null,
   "metadata": {},
   "outputs": [],
   "source": []
  }
 ],
 "metadata": {
  "kernelspec": {
   "display_name": "Python 3",
   "language": "python",
   "name": "python3"
  },
  "language_info": {
   "codemirror_mode": {
    "name": "ipython",
    "version": 3
   },
   "file_extension": ".py",
   "mimetype": "text/x-python",
   "name": "python",
   "nbconvert_exporter": "python",
   "pygments_lexer": "ipython3",
   "version": "3.7.8"
  }
 },
 "nbformat": 4,
 "nbformat_minor": 4
}
