{
 "cells": [
  {
   "cell_type": "markdown",
   "metadata": {},
   "source": [
    "# Find Unique"
   ]
  },
  {
   "cell_type": "raw",
   "metadata": {},
   "source": [
    "You have been given an integer array/list(ARR) of size N. Where N is equal to [2M + 1].\n",
    "Now, in the given array/list, 'M' numbers are present twice and one number is present only once.\n",
    "You need to find and return that number which is unique in the array/list.\n",
    " Note:\n",
    "Unique element is always present in the array/list according to the given condition.\n",
    "Input format :\n",
    "The first line contains an Integer 't' which denotes the number of test cases or queries to be run. Then the test cases follow.\n",
    "\n",
    "First line of each test case or query contains an integer 'N' representing the size of the array/list.\n",
    "\n",
    "Second line contains 'N' single space separated integers representing the elements in the array/list.\n",
    "Output Format :\n",
    "For each test case, print the unique element present in the array.\n",
    "\n",
    "Output for every test case will be printed in a separate line.\n",
    "Constraints :\n",
    "1 <= t <= 10^2\n",
    "0 <= N <= 10^3\n",
    "Time Limit: 1 sec\n",
    "Sample Input 1:\n",
    "1\n",
    "7\n",
    "2 3 1 6 3 6 2\n",
    "Sample Output 1:\n",
    "1\n",
    "Sample Input 2:\n",
    "2\n",
    "5\n",
    "2 4 7 2 7\n",
    "9\n",
    "1 3 1 3 6 6 7 10 7\n",
    "Sample Output 2:\n",
    "4\n",
    "10"
   ]
  },
  {
   "cell_type": "code",
   "execution_count": 3,
   "metadata": {},
   "outputs": [
    {
     "name": "stdout",
     "output_type": "stream",
     "text": [
      "10\n"
     ]
    }
   ],
   "source": [
    "def unique(l):\n",
    "    x = l[0]\n",
    "    for i in range(0,len(l)):\n",
    "        count=0\n",
    "        for j in range(0,len(l)):\n",
    "            if l[i]==l[j]:\n",
    "                count=count+1\n",
    "        if count==1:\n",
    "             x= l[i]\n",
    "    return x\n",
    "\n",
    "l = [1,3,1,3,6,6,7,10,7]\n",
    "print(unique(l))"
   ]
  },
  {
   "cell_type": "markdown",
   "metadata": {},
   "source": [
    "# 2nd Method"
   ]
  },
  {
   "cell_type": "code",
   "execution_count": 6,
   "metadata": {},
   "outputs": [
    {
     "name": "stdout",
     "output_type": "stream",
     "text": [
      "1\n"
     ]
    }
   ],
   "source": [
    "def unique(l):\n",
    "    x= list(set(l))\n",
    "    y = x[0]\n",
    "    return y\n",
    "l = [1,3,1,3,6,6,7,10,7]\n",
    "print(unique(l))"
   ]
  },
  {
   "cell_type": "markdown",
   "metadata": {},
   "source": [
    "# 3rd Method"
   ]
  },
  {
   "cell_type": "code",
   "execution_count": 11,
   "metadata": {},
   "outputs": [
    {
     "name": "stdout",
     "output_type": "stream",
     "text": [
      "10\n"
     ]
    }
   ],
   "source": [
    "def unique(l):\n",
    "    d = {}\n",
    "    for ele in l:\n",
    "        if ele in d:\n",
    "            d[ele]=d[ele]+1\n",
    "        else:\n",
    "            d[ele] = 1\n",
    "    for ele in d:\n",
    "        if d[ele]==1:\n",
    "            y = ele\n",
    "    \n",
    "    return y\n",
    "l = [1,3,1,3,6,6,7,10,7]\n",
    "print(unique(l))"
   ]
  },
  {
   "cell_type": "code",
   "execution_count": null,
   "metadata": {},
   "outputs": [],
   "source": []
  }
 ],
 "metadata": {
  "kernelspec": {
   "display_name": "Python 3",
   "language": "python",
   "name": "python3"
  },
  "language_info": {
   "codemirror_mode": {
    "name": "ipython",
    "version": 3
   },
   "file_extension": ".py",
   "mimetype": "text/x-python",
   "name": "python",
   "nbconvert_exporter": "python",
   "pygments_lexer": "ipython3",
   "version": "3.7.8"
  }
 },
 "nbformat": 4,
 "nbformat_minor": 4
}
