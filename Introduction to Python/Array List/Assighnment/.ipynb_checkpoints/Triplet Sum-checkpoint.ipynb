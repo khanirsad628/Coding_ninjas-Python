{
 "cells": [
  {
   "cell_type": "markdown",
   "metadata": {},
   "source": [
    "# Triplet Sum"
   ]
  },
  {
   "cell_type": "raw",
   "metadata": {},
   "source": [
    "You have been given a random integer array/list(ARR) and a number X. Find and return the number of triplets in the array/list which sum to X.\n",
    "Note :\n",
    "Given array/list can contain duplicate elements.\n",
    "Input format :\n",
    "The first line contains an Integer 't' which denotes the number of test cases or queries to be run. Then the test cases follow.\n",
    "\n",
    "First line of each test case or query contains an integer 'N' representing the size of the first array/list.\n",
    "\n",
    "Second line contains 'N' single space separated integers representing the elements in the array/list.\n",
    "\n",
    "Third line contains an integer 'X'.\n",
    "Output format :\n",
    "For each test case, print the total number of triplets present in the array/list.\n",
    "\n",
    "Output for every test case will be printed in a separate line.\n",
    "Constraints :\n",
    "1 <= t <= 50\n",
    "0 <= N <= 10^2\n",
    "0 <= X <= 10^9\n",
    "Time Limit: 1 sec\n",
    "Sample Input 1:\n",
    "1\n",
    "7\n",
    "1 2 3 4 5 6 7 \n",
    "12\n",
    "Sample Output 1:\n",
    "5\n",
    "Sample Input 2:\n",
    "2\n",
    "7\n",
    "1 2 3 4 5 6 7 \n",
    "19\n",
    "9\n",
    "2 -5 8 -6 0 5 10 11 -3\n",
    "10\n",
    "Sample Output 2:\n",
    "0\n",
    "5\n",
    "\n",
    "\n",
    " Explanation for Input 2:\n",
    "Since there doesn't exist any triplet with sum equal to 19 for the first query, we print 0.\n",
    "\n",
    "For the second query, we have 5 triplets in total that sum up to 10. They are, (2, 8, 0), (2, 11, -3), (-5, 5, 10), (8, 5, -3) and (-6, 5, 11) "
   ]
  },
  {
   "cell_type": "code",
   "execution_count": 1,
   "metadata": {},
   "outputs": [
    {
     "data": {
      "text/plain": [
       "0"
      ]
     },
     "execution_count": 1,
     "metadata": {},
     "output_type": "execute_result"
    }
   ],
   "source": [
    "def findTriplet(arr,x) :\n",
    "    count=0\n",
    "    for i in range(0,len(arr)-x):\n",
    "        if arr[i]+arr[i+1]+arr[i+2]==x:\n",
    "            count = count+1\n",
    "    return count\n",
    "    #Your code goes here\n",
    "    #return your answer\n",
    "    \n",
    "arr = [1,2,3,4,5,6,7]\n",
    "x = 12\n",
    "findTriplet(arr,x)"
   ]
  },
  {
   "cell_type": "code",
   "execution_count": null,
   "metadata": {},
   "outputs": [],
   "source": []
  }
 ],
 "metadata": {
  "kernelspec": {
   "display_name": "Python 3",
   "language": "python",
   "name": "python3"
  },
  "language_info": {
   "codemirror_mode": {
    "name": "ipython",
    "version": 3
   },
   "file_extension": ".py",
   "mimetype": "text/x-python",
   "name": "python",
   "nbconvert_exporter": "python",
   "pygments_lexer": "ipython3",
   "version": "3.7.8"
  }
 },
 "nbformat": 4,
 "nbformat_minor": 4
}
