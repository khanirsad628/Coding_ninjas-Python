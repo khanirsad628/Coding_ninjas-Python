{
 "cells": [
  {
   "cell_type": "markdown",
   "metadata": {},
   "source": [
    "# Pair Sum"
   ]
  },
  {
   "cell_type": "raw",
   "metadata": {},
   "source": [
    "You have been given an integer array/list(ARR) and a number X. Find and return the total number of pairs in the array/list which sum to X.\n",
    "Note:\n",
    "Given array/list can contain duplicate elements. \n",
    "Input format :\n",
    "The first line contains an Integer 't' which denotes the number of test cases or queries to be run. Then the test cases follow.\n",
    "\n",
    "First line of each test case or query contains an integer 'N' representing the size of the first array/list.\n",
    "\n",
    "Second line contains 'N' single space separated integers representing the elements in the array/list.\n",
    "\n",
    "Third line contains an integer 'X'.\n",
    "Output format :\n",
    "For each test case, print the total number of pairs present in the array/list.\n",
    "\n",
    "Output for every test case will be printed in a separate line.\n",
    "Constraints :\n",
    "1 <= t <= 10^2\n",
    "0 <= N <= 10^3\n",
    "0 <= X <= 10^9\n",
    "Time Limit: 1 sec\n",
    "Sample Input 1:\n",
    "1\n",
    "9\n",
    "1 3 6 2 5 4 3 2 4\n",
    "7\n",
    "Sample Output 1:\n",
    "7\n",
    "Sample Input 2:\n",
    "2\n",
    "9\n",
    "1 3 6 2 5 4 3 2 4\n",
    "12\n",
    "6\n",
    "2 8 10 5 -2 5\n",
    "10\n",
    "Sample Output 2:\n",
    "0\n",
    "2\n",
    "\n",
    "\n",
    " Explanation for Input 2:\n",
    "Since there doesn't exist any pair with sum equal to 12 for the first query, we print 0.\n",
    "\n",
    "For the second query, we have 2 pairs in total that sum up to 10. They are, (2, 8) and (5, 5)."
   ]
  },
  {
   "cell_type": "code",
   "execution_count": 1,
   "metadata": {},
   "outputs": [
    {
     "data": {
      "text/plain": [
       "7"
      ]
     },
     "execution_count": 1,
     "metadata": {},
     "output_type": "execute_result"
    }
   ],
   "source": [
    "def pairSum(arr,x) :\n",
    "    count=0\n",
    "    for i in range(0,len(arr)-1):\n",
    "        for j in range(i+1,len(arr)):\n",
    "            if arr[i]+arr[j]==x:\n",
    "                count = count+1\n",
    "    return count\n",
    "    #Your code goes here\n",
    "    \n",
    "arr = [1,3,6,2,5,4,3,2,4]\n",
    "x=7\n",
    "pairSum(arr,x)"
   ]
  },
  {
   "cell_type": "code",
   "execution_count": null,
   "metadata": {},
   "outputs": [],
   "source": []
  }
 ],
 "metadata": {
  "kernelspec": {
   "display_name": "Python 3",
   "language": "python",
   "name": "python3"
  },
  "language_info": {
   "codemirror_mode": {
    "name": "ipython",
    "version": 3
   },
   "file_extension": ".py",
   "mimetype": "text/x-python",
   "name": "python",
   "nbconvert_exporter": "python",
   "pygments_lexer": "ipython3",
   "version": "3.7.8"
  }
 },
 "nbformat": 4,
 "nbformat_minor": 4
}
