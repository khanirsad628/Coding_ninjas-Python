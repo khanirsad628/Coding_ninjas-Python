{
 "cells": [
  {
   "cell_type": "markdown",
   "metadata": {},
   "source": [
    "# Intersection of Two Arrays II"
   ]
  },
  {
   "cell_type": "raw",
   "metadata": {},
   "source": [
    "You have been given two integer arrays/list(ARR1 and ARR2) of size N and M, respectively. You need to print their intersection; An intersection for this problem can be defined when both the arrays/lists contain a particular value or to put it in other words, when there is a common value that exists in both the arrays/lists.\n",
    "Note :\n",
    "Input arrays/lists can contain duplicate elements.\n",
    "\n",
    "The intersection elements printed would be in the order they appear in the first array/list(ARR1)\n",
    "\n",
    "\n",
    "Input format :\n",
    "The first line contains an Integer 't' which denotes the number of test cases or queries to be run. Then the test cases follow.\n",
    "\n",
    "First line of each test case or query contains an integer 'N' representing the size of the first array/list.\n",
    "\n",
    "Second line contains 'N' single space separated integers representing the elements of the first the array/list.\n",
    "\n",
    "Third line contains an integer 'M' representing the size of the second array/list.\n",
    "\n",
    "Fourth line contains 'M' single space separated integers representing the elements of the second array/list.\n",
    "Output format :\n",
    "For each test case, print the intersection elements in a row, separated by a single space.\n",
    "\n",
    "Output for every test case will be printed in a separate line.\n",
    "Constraints :\n",
    "1 <= t <= 10^2\n",
    "0 <= N <= 10^5\n",
    "0 <= M <= 10^5\n",
    "Time Limit: 1 sec \n",
    "Sample Input 1 :\n",
    "2\n",
    "6\n",
    "2 6 8 5 4 3\n",
    "4\n",
    "2 3 4 7 \n",
    "2\n",
    "10 10\n",
    "1\n",
    "10\n",
    "Sample Output 1 :\n",
    "2 4 3\n",
    "10\n",
    "Sample Input 2 :\n",
    "1\n",
    "4\n",
    "2 6 1 2\n",
    "5\n",
    "1 2 3 4 2\n",
    "Sample Output 2 :\n",
    "2 1 2\n",
    "Explanation for Sample Output 2 :\n",
    "Since, both input arrays have two '2's, the intersection of the arrays also have two '2's. The first '2' of first array matches with the first '2' of the second array. Similarly, the second '2' of the first array matches with the second '2' if the second array."
   ]
  },
  {
   "cell_type": "code",
   "execution_count": 7,
   "metadata": {},
   "outputs": [
    {
     "name": "stdout",
     "output_type": "stream",
     "text": [
      "2 1 2"
     ]
    }
   ],
   "source": [
    "import sys\n",
    "def intersect(arr1,arr2):\n",
    "    if len(arr1)>=len(arr2):\n",
    "        barr = arr1\n",
    "        sarr = arr2\n",
    "    else:\n",
    "        barr=arr2\n",
    "        sarr=arr1\n",
    "        \n",
    "    for i in range(0,len(barr)):\n",
    "        for j in range(0,len(sarr)):\n",
    "            if barr[i]==sarr[j]:\n",
    "                if i==len(barr)-1:\n",
    "                    print(barr[i],end='')\n",
    "                    sarr[j]=sys.maxsize  # Updating the value with -infinity\n",
    "                else:\n",
    "                    print(barr[i],end=\" \")\n",
    "                    sarr[j]=sys.maxsize\n",
    "                break\n",
    "\n",
    "arr1 = [2,6,1,2]\n",
    "arr2 = [1,2,3,4,2]\n",
    "intersect(arr1,arr2)"
   ]
  },
  {
   "cell_type": "code",
   "execution_count": null,
   "metadata": {},
   "outputs": [],
   "source": []
  }
 ],
 "metadata": {
  "kernelspec": {
   "display_name": "Python 3",
   "language": "python",
   "name": "python3"
  },
  "language_info": {
   "codemirror_mode": {
    "name": "ipython",
    "version": 3
   },
   "file_extension": ".py",
   "mimetype": "text/x-python",
   "name": "python",
   "nbconvert_exporter": "python",
   "pygments_lexer": "ipython3",
   "version": "3.7.8"
  }
 },
 "nbformat": 4,
 "nbformat_minor": 4
}
