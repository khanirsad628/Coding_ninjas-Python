{
 "cells": [
  {
   "cell_type": "markdown",
   "metadata": {},
   "source": [
    "# Minimum Length Word"
   ]
  },
  {
   "cell_type": "raw",
   "metadata": {},
   "source": [
    "Given a string S (that can contain multiple words), you need to find the word which has minimum length.\n",
    "Note : If multiple words are of same length, then answer will be first minimum length word in the string.\n",
    "Words are seperated by single space only.\n",
    "Input Format :\n",
    "String S\n",
    "Output Format :\n",
    "Minimum length word\n",
    "Constraints :\n",
    "1 <= Length of String S <= 10^5\n",
    "Sample Input 1 :\n",
    "this is test string\n",
    "Sample Output 1 :\n",
    "is\n",
    "Sample Input 2 :\n",
    "abc de ghihjk a uvw h j\n",
    "Sample Output 2 :\n",
    "a"
   ]
  },
  {
   "cell_type": "code",
   "execution_count": 1,
   "metadata": {},
   "outputs": [
    {
     "name": "stdout",
     "output_type": "stream",
     "text": [
      "Happy Birthday Irshad\n",
      "Happy\n"
     ]
    }
   ],
   "source": [
    "s = input()\n",
    "l = s.split(' ')\n",
    "m = []\n",
    "for ele in l:\n",
    "    m.append(len(ele))\n",
    "\n",
    "mini = min(m)\n",
    "for ele in l:\n",
    "    if len(ele)==mini:\n",
    "        print(ele)\n",
    "        break"
   ]
  },
  {
   "cell_type": "code",
   "execution_count": null,
   "metadata": {},
   "outputs": [],
   "source": []
  }
 ],
 "metadata": {
  "kernelspec": {
   "display_name": "Python 3",
   "language": "python",
   "name": "python3"
  },
  "language_info": {
   "codemirror_mode": {
    "name": "ipython",
    "version": 3
   },
   "file_extension": ".py",
   "mimetype": "text/x-python",
   "name": "python",
   "nbconvert_exporter": "python",
   "pygments_lexer": "ipython3",
   "version": "3.7.8"
  }
 },
 "nbformat": 4,
 "nbformat_minor": 4
}
