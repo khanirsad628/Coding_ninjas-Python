{
 "cells": [
  {
   "cell_type": "markdown",
   "metadata": {},
   "source": [
    "# Highest Occuring Character"
   ]
  },
  {
   "cell_type": "raw",
   "metadata": {},
   "source": [
    "For a given a string(str), find and return the highest occurring character.\n",
    "Example:\n",
    "Input String: \"abcdeapapqarr\"\n",
    "Expected Output: 'a'\n",
    "Since 'a' has appeared four times in the string which happens to be the highest frequency character, the answer would be 'a'.\n",
    "If there are two characters in the input string with the same frequency, return the character which comes first.\n",
    "Consider:\n",
    "Assume all the characters in the given string to be in lowercase always.\n",
    "Input Format:\n",
    "The first and only line of input contains a string without any leading and trailing spaces.\n",
    "Output Format:\n",
    "The only line of output prints the updated string. \n",
    "Note:\n",
    "You are not required to print anything explicitly. It has already been taken care of.\n",
    "Constraints:\n",
    "0 <= N <= 10^6\n",
    "Where N is the length of the input string.\n",
    "\n",
    "Time Limit: 1 second\n",
    "Sample Input 1:\n",
    "abdefgbabfba\n",
    "Sample Output 1:\n",
    "b\n",
    "Sample Input 2:\n",
    "xy\n",
    "Sample Output 2:\n",
    "x"
   ]
  },
  {
   "cell_type": "code",
   "execution_count": 21,
   "metadata": {},
   "outputs": [
    {
     "ename": "IndentationError",
     "evalue": "expected an indented block (<ipython-input-21-61ee151f1271>, line 6)",
     "output_type": "error",
     "traceback": [
      "\u001b[1;36m  File \u001b[1;32m\"<ipython-input-21-61ee151f1271>\"\u001b[1;36m, line \u001b[1;32m6\u001b[0m\n\u001b[1;33m    for i in range(0,len(string)):\u001b[0m\n\u001b[1;37m      ^\u001b[0m\n\u001b[1;31mIndentationError\u001b[0m\u001b[1;31m:\u001b[0m expected an indented block\n"
     ]
    }
   ],
   "source": [
    "s = \"abdefgbabfba\"\n",
    "\n",
    "def highestOccuringChar(string):\n",
    "    l = []\n",
    "    if len(string)==0:\n",
    "        return \"\"\n",
    "    for i in range(0,len(string)):\n",
    "        count=0\n",
    "        for j in range(0,len(string)):\n",
    "            if string[i]==string[j]:\n",
    "                count = count+1\n",
    "        \n",
    "        l.append((count,string[i]))\n",
    "    ch = []\n",
    "    occur = []\n",
    "    for ele in l:\n",
    "        ch.append(ele[1])\n",
    "        occur.append(ele[0])\n",
    "    m = max(occur)\n",
    "    index = 0\n",
    "    for i in range(0,len(occur)):\n",
    "        if m==occur[i]:\n",
    "            index = i\n",
    "            break\n",
    "    return ch[index]\n",
    "            \n",
    "            \n",
    "    \n",
    "\n",
    "print(highestOccuringChar(s))\n"
   ]
  },
  {
   "cell_type": "code",
   "execution_count": 20,
   "metadata": {},
   "outputs": [
    {
     "name": "stdout",
     "output_type": "stream",
     "text": [
      "b\n"
     ]
    }
   ],
   "source": [
    "s = \"abdefgbabfba\"\n",
    "def highestOccuringChar(string):\n",
    "    d = {}\n",
    "    for ele in s:\n",
    "        if ele not in d:\n",
    "            d[ele] = 1\n",
    "        else:\n",
    "            d[ele] = d[ele]+1\n",
    "    \n",
    "    maxi = d[s[0]]\n",
    "    for ele in d:\n",
    "        if maxi<d[ele]:\n",
    "            maxi = d[ele]\n",
    "            \n",
    "    for ele in d:\n",
    "        if maxi==d[ele]:\n",
    "            return ele\n",
    "    \n",
    "print(highestOccuringChar(s))"
   ]
  },
  {
   "cell_type": "code",
   "execution_count": null,
   "metadata": {},
   "outputs": [],
   "source": []
  }
 ],
 "metadata": {
  "kernelspec": {
   "display_name": "Python 3",
   "language": "python",
   "name": "python3"
  },
  "language_info": {
   "codemirror_mode": {
    "name": "ipython",
    "version": 3
   },
   "file_extension": ".py",
   "mimetype": "text/x-python",
   "name": "python",
   "nbconvert_exporter": "python",
   "pygments_lexer": "ipython3",
   "version": "3.7.8"
  }
 },
 "nbformat": 4,
 "nbformat_minor": 4
}
