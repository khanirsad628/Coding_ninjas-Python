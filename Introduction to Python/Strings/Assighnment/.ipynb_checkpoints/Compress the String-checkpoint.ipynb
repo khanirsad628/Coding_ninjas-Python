{
 "cells": [
  {
   "cell_type": "markdown",
   "metadata": {},
   "source": [
    "# Compress the String"
   ]
  },
  {
   "cell_type": "raw",
   "metadata": {},
   "source": [
    "Write a program to do basic string compression. For a character which is consecutively repeated more than once, replace consecutive duplicate occurrences with the count of repetitions.\n",
    "Example:\n",
    "If a string has 'x' repeated 5 times, replace this \"xxxxx\" with \"x5\".\n",
    "\n",
    "The string is compressed only when the repeated character count is more than 1.\n",
    "Note:\n",
    "Consecutive count of every character in the input string is less than or equal to 9.\n",
    "Input Format:\n",
    "The first and only line of input contains a string without any leading and trailing spaces.\n",
    "Output Format:\n",
    "The output contains the string after compression printed in single line.\n",
    "Note:\n",
    "You are not required to print anything. It has already been taken care of. Just implement the given function.\n",
    "Constraints:\n",
    "0 <= N <= 10^6\n",
    "\n",
    "Where 'N' is the length of the input string.\n",
    "\n",
    "Time Limit: 1 sec\n",
    "Sample Input 1:\n",
    "aaabbccdsa\n",
    "Sample Output 1:\n",
    "a3b2c2dsa\n",
    "Explanation for Sample Output 1:\n",
    "In the given string 'a' is repeated 3 times, 'b' is repeated 2 times, 'c' is repeated 2 times and 'd', 's' and 'a' and occuring 1 time hence no compression for last 3 characters.\n",
    "Sample Input 2:\n",
    "aaabbcddeeeee\n",
    "Sample Output 2:\n",
    "a3b2cd2e5\n",
    "Explanation for Sample Output 2:\n",
    "In the given string 'a' is repeated 3 times, 'b' is repeated 2 times, 'c' is occuring single time, 'd' is repeating 2 times and 'e' is repeating 5times."
   ]
  },
  {
   "cell_type": "code",
   "execution_count": 3,
   "metadata": {},
   "outputs": [
    {
     "name": "stdout",
     "output_type": "stream",
     "text": [
      "a4b2c2ds\n"
     ]
    }
   ],
   "source": [
    "s = \"aaabbccdsa\"\n",
    "def getCompressedString(input):\n",
    "    d = {}\n",
    "    s = input\n",
    "    for ele in s:\n",
    "        if ele not in d:\n",
    "            d[ele]=1\n",
    "        else:\n",
    "            d[ele] = d[ele]+1\n",
    "    s1 = \"\"\n",
    "    for ele in d:\n",
    "        if d[ele]>1:\n",
    "            s1 = s1+ele+str(d[ele])\n",
    "        else:\n",
    "            s1 = s1+ele\n",
    "    return s1\n",
    "\n",
    "print(getCompressedString(s))"
   ]
  },
  {
   "cell_type": "code",
   "execution_count": 12,
   "metadata": {},
   "outputs": [
    {
     "name": "stdout",
     "output_type": "stream",
     "text": [
      "a3b2c2dsa\n"
     ]
    }
   ],
   "source": [
    "s = \"aaabbccdsa\"\n",
    "\n",
    "def getCompressedString(input):\n",
    "    a = input\n",
    "    i=0\n",
    "    x=''\n",
    "    while(i<len(a)):\n",
    "        j=i+1\n",
    "        c=1\n",
    "        while j<len(a) and (a[i]==a[j]):\n",
    "            j+=1\n",
    "            c+=1\n",
    "        if c==1:\n",
    "            x+=a[i]\n",
    "        else:\n",
    "            x+=a[i]+str(c)\n",
    "        i=j\n",
    "    return x\n",
    "print(getCompressedString(s))\n"
   ]
  },
  {
   "cell_type": "code",
   "execution_count": null,
   "metadata": {},
   "outputs": [],
   "source": []
  }
 ],
 "metadata": {
  "kernelspec": {
   "display_name": "Python 3",
   "language": "python",
   "name": "python3"
  },
  "language_info": {
   "codemirror_mode": {
    "name": "ipython",
    "version": 3
   },
   "file_extension": ".py",
   "mimetype": "text/x-python",
   "name": "python",
   "nbconvert_exporter": "python",
   "pygments_lexer": "ipython3",
   "version": "3.7.8"
  }
 },
 "nbformat": 4,
 "nbformat_minor": 4
}
