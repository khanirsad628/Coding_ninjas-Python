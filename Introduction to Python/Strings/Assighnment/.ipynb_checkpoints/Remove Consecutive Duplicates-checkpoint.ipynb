{
 "cells": [
  {
   "cell_type": "markdown",
   "metadata": {},
   "source": [
    "# Remove Consecutive Duplicates"
   ]
  },
  {
   "cell_type": "raw",
   "metadata": {},
   "source": [
    "For a given string(str), remove all the consecutive duplicate characters.\n",
    "Example:\n",
    "Input String: \"aaaa\"\n",
    "Expected Output: \"a\"\n",
    "\n",
    "Input String: \"aabbbcc\"\n",
    "Expected Output: \"abc\"\n",
    " Input Format:\n",
    "The first and only line of input contains a string without any leading and trailing spaces. All the characters in the string would be in lower case.\n",
    "Output Format:\n",
    "The only line of output prints the updated string.\n",
    "Note:\n",
    "You are not required to print anything. It has already been taken care of.\n",
    "Constraints:\n",
    "0 <= N <= 10^6\n",
    "Where N is the length of the input string.\n",
    "\n",
    "Time Limit: 1 second\n",
    "Sample Input 1:\n",
    "aabccbaa\n",
    "Sample Output 1:\n",
    "abcba\n",
    "Sample Input 2:\n",
    "xxyyzxx\n",
    "Sample Output 2:\n",
    "xyzx"
   ]
  },
  {
   "cell_type": "code",
   "execution_count": 3,
   "metadata": {},
   "outputs": [
    {
     "name": "stdout",
     "output_type": "stream",
     "text": [
      "abcba\n"
     ]
    }
   ],
   "source": [
    "s = \"aabccbaa\"\n",
    "def removeConsecutiveDuplicates(string):\n",
    "    s = \"\"\n",
    "    for i  in range(0,len(string)-1):\n",
    "        if string[i]!=string[i+1]:\n",
    "            s = s+string[i]\n",
    "    return s+string[-1]\n",
    "print(removeConsecutiveDuplicates(s))"
   ]
  },
  {
   "cell_type": "code",
   "execution_count": null,
   "metadata": {},
   "outputs": [],
   "source": []
  }
 ],
 "metadata": {
  "kernelspec": {
   "display_name": "Python 3",
   "language": "python",
   "name": "python3"
  },
  "language_info": {
   "codemirror_mode": {
    "name": "ipython",
    "version": 3
   },
   "file_extension": ".py",
   "mimetype": "text/x-python",
   "name": "python",
   "nbconvert_exporter": "python",
   "pygments_lexer": "ipython3",
   "version": "3.7.8"
  }
 },
 "nbformat": 4,
 "nbformat_minor": 4
}
