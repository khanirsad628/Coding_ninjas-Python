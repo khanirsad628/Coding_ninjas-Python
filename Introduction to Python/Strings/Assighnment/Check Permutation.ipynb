{
 "cells": [
  {
   "cell_type": "markdown",
   "metadata": {},
   "source": [
    "# Check Permutation"
   ]
  },
  {
   "cell_type": "raw",
   "metadata": {},
   "source": [
    "For a given two strings, 'str1' and 'str2', check whether they are a permutation of each other or not.\n",
    "Permutations of each other\n",
    "Two strings are said to be a permutation of each other when either of the string's characters can be rearranged so that it becomes identical to the other one.\n",
    "\n",
    "Example: \n",
    "str1= \"sinrtg\" \n",
    "str2 = \"string\"\n",
    "\n",
    "The character of the first string(str1) can be rearranged to form str2 and hence we can say that the given strings are a permutation of each other.\n",
    "Input Format:\n",
    "The first line of input contains a string without any leading and trailing spaces, representing the first string 'str1'.\n",
    "\n",
    "The second line of input contains a string without any leading and trailing spaces, representing the second string 'str2'.\n",
    "Note:\n",
    "All the characters in the input strings would be in lower case.\n",
    "Output Format:\n",
    "The only line of output prints either 'true' or 'false', denoting whether the two strings are a permutation of each other or not.\n",
    "\n",
    "You are not required to print anything. It has already been taken care of. Just implement the function. \n",
    "Constraints:\n",
    "0 <= N <= 10^6\n",
    "Where N is the length of the input string.\n",
    "\n",
    "Time Limit: 1 second\n",
    "Sample Input 1:\n",
    "abcde\n",
    "baedc\n",
    "Sample Output 1:\n",
    "true\n",
    "Sample Input 2:\n",
    "abc\n",
    "cbd\n",
    "Sample Output 2:\n",
    "false"
   ]
  },
  {
   "cell_type": "code",
   "execution_count": 6,
   "metadata": {},
   "outputs": [
    {
     "name": "stdout",
     "output_type": "stream",
     "text": [
      "true\n"
     ]
    }
   ],
   "source": [
    "def isPermutation(string1, string2):\n",
    "    if len(string1)==len(string2):\n",
    "        li1 = [ele for ele in string1]\n",
    "        li2 = [ele for ele in string2]\n",
    "        li1.sort()\n",
    "        li2.sort()\n",
    "        s1 = \"\".join(li1)\n",
    "        s2=\"\".join(li2)\n",
    "        if s1==s2:\n",
    "            return \"true\"\n",
    "        else:\n",
    "            return \"false\"\n",
    "    else:\n",
    "        return \"false\"\n",
    "print(isPermutation('listen', 'silent'))               "
   ]
  },
  {
   "cell_type": "code",
   "execution_count": null,
   "metadata": {},
   "outputs": [],
   "source": []
  }
 ],
 "metadata": {
  "kernelspec": {
   "display_name": "Python 3",
   "language": "python",
   "name": "python3"
  },
  "language_info": {
   "codemirror_mode": {
    "name": "ipython",
    "version": 3
   },
   "file_extension": ".py",
   "mimetype": "text/x-python",
   "name": "python",
   "nbconvert_exporter": "python",
   "pygments_lexer": "ipython3",
   "version": "3.7.8"
  }
 },
 "nbformat": 4,
 "nbformat_minor": 4
}
