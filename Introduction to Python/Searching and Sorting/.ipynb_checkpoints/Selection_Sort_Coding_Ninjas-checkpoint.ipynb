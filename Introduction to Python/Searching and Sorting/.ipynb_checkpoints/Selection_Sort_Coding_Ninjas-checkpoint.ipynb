{
 "cells": [
  {
   "cell_type": "markdown",
   "metadata": {},
   "source": [
    "# Selection_Sort_Coding_Ninjas\n"
   ]
  },
  {
   "cell_type": "raw",
   "metadata": {},
   "source": [
    "Provided with a random integer array/list(ARR) of size N, you have been required to sort this array using 'Selection Sort'.\n",
    " Note:\n",
    "Change in the input array/list itself. You don't need to return or print the elements.\n",
    "Input format :\n",
    "The first line contains an Integer 't' which denotes the number of test cases or queries to be run. Then the test cases follow.\n",
    "\n",
    "First line of each test case or query contains an integer 'N' representing the size of the array/list.\n",
    "\n",
    "Second line contains 'N' single space separated integers representing the elements in the array/list.\n",
    "Output format :\n",
    "For each test case, print the elements of the array/list in sorted order separated by a single space.\n",
    "\n",
    "Output for every test case will be printed in a separate line.\n",
    "Constraints :\n",
    "1 <= t <= 10^2\n",
    "0 <= N <= 10^3\n",
    "Time Limit: 1 sec\n",
    "Sample Input 1:\n",
    "1\n",
    "7\n",
    "2 13 4 1 3 6 28\n",
    "Sample Output 1:\n",
    "1 2 3 4 6 13 28\n",
    "Sample Input 2:\n",
    "2\n",
    "5\n",
    "9 3 6 2 0\n",
    "4\n",
    "4 3 2 1\n",
    "Sample Output 2:\n",
    "0 2 3 6 9\n",
    "1 2 3 4"
   ]
  },
  {
   "cell_type": "code",
   "execution_count": 18,
   "metadata": {},
   "outputs": [
    {
     "name": "stdout",
     "output_type": "stream",
     "text": [
      "3 [2, 13, 4, 1, 3, 6, 28]\n",
      "3 [1, 13, 4, 2, 3, 6, 28]\n",
      "4 [1, 2, 4, 13, 3, 6, 28]\n",
      "4 [1, 2, 3, 13, 4, 6, 28]\n",
      "5 [1, 2, 3, 4, 13, 6, 28]\n",
      "5 [1, 2, 3, 4, 6, 13, 28]\n",
      "6 [1, 2, 3, 4, 6, 13, 28]\n",
      "[1, 2, 3, 4, 6, 13, 28]\n"
     ]
    }
   ],
   "source": [
    "a = [2,13,4,1,3,6,28]\n",
    "def mini(li,ind):\n",
    "    index = ind\n",
    "    mi = li[ind]\n",
    "    for i in range(ind,len(li)):\n",
    "        if mi>li[i]:\n",
    "            mi = li[i]\n",
    "            index = i\n",
    "    return index\n",
    "\n",
    "def selection_sort(l):\n",
    "    for i in range(0,len(l)):\n",
    "        y = mini(l,i)\n",
    "        print(y,l)\n",
    "        l[i],l[y]=l[y],l[i]\n",
    "        \n",
    "selection_sort(a)\n",
    "print(a)\n",
    "            "
   ]
  },
  {
   "cell_type": "markdown",
   "metadata": {},
   "source": [
    "# Coding Ninjas"
   ]
  },
  {
   "cell_type": "code",
   "execution_count": null,
   "metadata": {},
   "outputs": [],
   "source": [
    "from sys import stdin\n",
    "\n",
    "def mini(li,ind):\n",
    "    index = ind\n",
    "    mi = li[ind]\n",
    "    for i in range(ind,len(li)):\n",
    "        if mi>li[i]:\n",
    "            mi = li[i]\n",
    "            index = i\n",
    "    return index\n",
    "\n",
    "def selectionSort(arr, n) :\n",
    "    for i in range(0,len(arr)):\n",
    "        y = mini(arr,i)\n",
    "        arr[i],arr[y]=arr[y],arr[i]\n",
    "    #Your code goes here\n",
    "\n",
    "\n",
    "#Taking Input Using Fast I/O\n",
    "def takeInput() :\n",
    "    n = int(stdin.readline().strip())\n",
    "    if n == 0 :\n",
    "        return list(), 0\n",
    "\n",
    "    arr = list(map(int, stdin.readline().strip().split(\" \")))\n",
    "    return arr, n\n",
    "\n",
    "\n",
    "#to print the array/list\n",
    "def printList(arr, n) : \n",
    "    for i in range(n) :\n",
    "        print(arr[i], end = \" \")\n",
    "    print()\n",
    "\n",
    "\n",
    "#main\n",
    "t = int(stdin.readline().strip())\n",
    "\n",
    "while t > 0 :\n",
    "    \n",
    "    arr, n = takeInput()\n",
    "    selectionSort(arr, n)\n",
    "    printList(arr, n)\n",
    "\n",
    "    t-= 1"
   ]
  }
 ],
 "metadata": {
  "kernelspec": {
   "display_name": "Python 3",
   "language": "python",
   "name": "python3"
  },
  "language_info": {
   "codemirror_mode": {
    "name": "ipython",
    "version": 3
   },
   "file_extension": ".py",
   "mimetype": "text/x-python",
   "name": "python",
   "nbconvert_exporter": "python",
   "pygments_lexer": "ipython3",
   "version": "3.7.8"
  }
 },
 "nbformat": 4,
 "nbformat_minor": 4
}
