{
 "cells": [
  {
   "cell_type": "markdown",
   "metadata": {},
   "source": [
    "# BS Modifications"
   ]
  },
  {
   "cell_type": "raw",
   "metadata": {},
   "source": [
    "Now that you have learnt how to perform Binary Search, let us try\n",
    "writing code for another edge case. Suppose your sorted array has\n",
    "duplicate numbers.\n",
    "For example, if the array is as follows: [1, 2, 2, 3, 3, 3, 4, 8, 9, 19, 19, 19]\n",
    "Try writing the code for the following two cases.\n",
    "1. Finding first occurrence of the given number.\n",
    "2. Finding the last occurrence of the given number."
   ]
  },
  {
   "cell_type": "code",
   "execution_count": 1,
   "metadata": {},
   "outputs": [],
   "source": [
    "a = [1, 2, 2, 3, 3, 3, 4, 8, 9, 19, 19, 19]"
   ]
  },
  {
   "cell_type": "code",
   "execution_count": 11,
   "metadata": {},
   "outputs": [
    {
     "name": "stdout",
     "output_type": "stream",
     "text": [
      "(0, 5)\n"
     ]
    }
   ],
   "source": [
    "def bs(l,target):\n",
    "    s=0\n",
    "    e=len(l)-1\n",
    "    asc = l[0]<l[-1]\n",
    "    mid=(s+e)//2\n",
    "    while(s<=e):\n",
    "        if l[mid]==target:\n",
    "            return (s,mid)\n",
    "        elif asc==True:\n",
    "            if target>l[mid]:\n",
    "                s=mid+1\n",
    "            else:\n",
    "                e = mid-1\n",
    "        else:\n",
    "            if target>l[mid]:\n",
    "                e = mid+1\n",
    "            else:\n",
    "                s = mid-1\n",
    "    return (-1,-1)\n",
    "\n",
    "\n",
    "print(bs(a,3))"
   ]
  },
  {
   "cell_type": "code",
   "execution_count": 10,
   "metadata": {},
   "outputs": [
    {
     "name": "stdout",
     "output_type": "stream",
     "text": [
      "first occurence of target 3 is at index 3\n"
     ]
    }
   ],
   "source": [
    "i = bs(a,3)[1]\n",
    "while(i>=bs(a,3)[0]):\n",
    "    if a[i]!=3:\n",
    "        break\n",
    "    i = i-1\n",
    "print(\"first occurence of target 3 is at index\",i+1)"
   ]
  },
  {
   "cell_type": "code",
   "execution_count": 12,
   "metadata": {},
   "outputs": [
    {
     "name": "stdout",
     "output_type": "stream",
     "text": [
      "last occurance of target 3 is at index  5\n"
     ]
    }
   ],
   "source": [
    "i=bs(a,3)[1]\n",
    "while(i<len(a)):\n",
    "    if a[i]!=3:\n",
    "        break\n",
    "    i = i+1\n",
    "print(\"last occurance of target 3 is at index \",i-1)"
   ]
  },
  {
   "cell_type": "code",
   "execution_count": null,
   "metadata": {},
   "outputs": [],
   "source": []
  }
 ],
 "metadata": {
  "kernelspec": {
   "display_name": "Python 3",
   "language": "python",
   "name": "python3"
  },
  "language_info": {
   "codemirror_mode": {
    "name": "ipython",
    "version": 3
   },
   "file_extension": ".py",
   "mimetype": "text/x-python",
   "name": "python",
   "nbconvert_exporter": "python",
   "pygments_lexer": "ipython3",
   "version": "3.7.8"
  }
 },
 "nbformat": 4,
 "nbformat_minor": 4
}
