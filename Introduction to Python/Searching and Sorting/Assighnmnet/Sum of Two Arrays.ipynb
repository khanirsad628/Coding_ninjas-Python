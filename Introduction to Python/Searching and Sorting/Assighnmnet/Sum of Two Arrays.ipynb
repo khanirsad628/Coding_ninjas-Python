{
 "cells": [
  {
   "cell_type": "markdown",
   "metadata": {},
   "source": [
    "# Sum of Two Arrays"
   ]
  },
  {
   "cell_type": "raw",
   "metadata": {},
   "source": [
    "Two random integer arrays/lists have been given as ARR1 and ARR2 of size N and M respectively. Both the arrays/lists contain numbers from 0 to 9(i.e. single digit integer is present at every index). The idea here is to represent each array/list as an integer in itself of digits N and M.\n",
    "You need to find the sum of both the input arrays/list treating them as two integers and put the result in another array/list i.e. output array/list will also contain only single digit at every index.\n",
    "Note:\n",
    "The sizes N and M can be different. \n",
    "\n",
    "Output array/list(of all 0s) has been provided as a function argument. Its size will always be one more than the size of the bigger array/list. Place 0 at the 0th index if there is no carry. \n",
    "\n",
    "No need to print the elements of the output array/list.\n",
    "Using the function \"sumOfTwoArrays\", write the solution to the problem and store the answer inside this output array/list. The main code will handle the printing of the output on its own.\n",
    "Input format :\n",
    "The first line contains an Integer 't' which denotes the number of test cases or queries to be run. Then the test cases follow.\n",
    "\n",
    "First line of each test case or query contains an integer 'N' representing the size of the first array/list.\n",
    "\n",
    "Second line contains 'N' single space separated integers representing the elements of the first array/list.\n",
    "\n",
    "Third line contains an integer 'M' representing the size of the second array/list.\n",
    "\n",
    "Fourth line contains 'M' single space separated integers representing the elements of the second array/list.\n",
    "Output Format :\n",
    "For each test case, print the required sum of the arrays/list in a row, separated by a single space.\n",
    "\n",
    "Output for every test case will be printed in a separate line.\n",
    "Constraints :\n",
    "1 <= t <= 10^2\n",
    "0 <= N <= 10^5\n",
    "0 <= M <= 10^5\n",
    "Time Limit: 1 sec \n",
    "Sample Input 1:\n",
    "1\n",
    "3\n",
    "6 2 4\n",
    "3\n",
    "7 5 6\n",
    "Sample Output 1:\n",
    "1 3 8 0\n",
    "Sample Input 2:\n",
    "2\n",
    "3\n",
    "8 5 2\n",
    "2\n",
    "1 3\n",
    "4\n",
    "9 7 6 1\n",
    "3\n",
    "4 5 9\n",
    "Sample Output 2:\n",
    "0 8 6 5\n",
    "1 0 2 2 0 "
   ]
  },
  {
   "cell_type": "code",
   "execution_count": null,
   "metadata": {},
   "outputs": [],
   "source": [
    "a = [0,8,6,5]\n",
    "b = [1,0,2,2,0]\n"
   ]
  }
 ],
 "metadata": {
  "kernelspec": {
   "display_name": "Python 3",
   "language": "python",
   "name": "python3"
  },
  "language_info": {
   "codemirror_mode": {
    "name": "ipython",
    "version": 3
   },
   "file_extension": ".py",
   "mimetype": "text/x-python",
   "name": "python",
   "nbconvert_exporter": "python",
   "pygments_lexer": "ipython3",
   "version": "3.7.8"
  }
 },
 "nbformat": 4,
 "nbformat_minor": 4
}
