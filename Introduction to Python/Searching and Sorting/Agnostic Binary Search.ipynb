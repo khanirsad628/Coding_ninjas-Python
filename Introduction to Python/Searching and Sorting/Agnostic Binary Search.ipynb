{
 "cells": [
  {
   "cell_type": "markdown",
   "metadata": {},
   "source": [
    "# Agnostic Binary Search"
   ]
  },
  {
   "cell_type": "raw",
   "metadata": {},
   "source": [
    "Array can be asc and descending say [1,2,3,4,5] we searching for 5 then 5 will be at left side of the array\n",
    "say array is dsc [5,4,3,2,1] then 5 will be at right side how to solve it\n",
    "\n",
    "i/p:- ['a','x','z','c','b'] search for d or say A or say b in the array\n",
    "o/p :- if its present or not or return -1 if not found"
   ]
  },
  {
   "cell_type": "code",
   "execution_count": 1,
   "metadata": {},
   "outputs": [],
   "source": []
  },
  {
   "cell_type": "code",
   "execution_count": 15,
   "metadata": {},
   "outputs": [],
   "source": [
    "a.sort()"
   ]
  },
  {
   "cell_type": "code",
   "execution_count": 16,
   "metadata": {},
   "outputs": [
    {
     "name": "stdout",
     "output_type": "stream",
     "text": [
      "['a', 'b', 'c', 'x', 'z']\n"
     ]
    }
   ],
   "source": [
    "print(a)"
   ]
  },
  {
   "cell_type": "code",
   "execution_count": 4,
   "metadata": {},
   "outputs": [
    {
     "name": "stdout",
     "output_type": "stream",
     "text": [
      "[97, 98, 99, 120, 122]\n"
     ]
    }
   ],
   "source": [
    "x = [ord(x) for x in a]\n",
    "print(x)"
   ]
  },
  {
   "cell_type": "code",
   "execution_count": 5,
   "metadata": {},
   "outputs": [
    {
     "name": "stdout",
     "output_type": "stream",
     "text": [
      "z\n"
     ]
    }
   ],
   "source": [
    "c = input()"
   ]
  },
  {
   "cell_type": "code",
   "execution_count": 26,
   "metadata": {},
   "outputs": [],
   "source": [
    "target = ord(c)"
   ]
  },
  {
   "cell_type": "code",
   "execution_count": 7,
   "metadata": {},
   "outputs": [
    {
     "name": "stdout",
     "output_type": "stream",
     "text": [
      "122\n"
     ]
    }
   ],
   "source": [
    "print(target)"
   ]
  },
  {
   "cell_type": "code",
   "execution_count": 34,
   "metadata": {},
   "outputs": [
    {
     "name": "stdout",
     "output_type": "stream",
     "text": [
      "122 99\n",
      "122 120\n",
      "4\n"
     ]
    }
   ],
   "source": [
    "def bs(li,target):\n",
    "    s = 0\n",
    "    e = len(li)-1\n",
    "    asc = li[0]<li[-1]\n",
    "    while(s<=e):\n",
    "        mid = (s+e)//2\n",
    "        if li[mid]==target:\n",
    "            return mid\n",
    "        elif asc==True:\n",
    "            print(target,li[mid])\n",
    "            if target>li[mid]:\n",
    "                s = mid+1\n",
    "            else:\n",
    "                e = mid-1\n",
    "        else:\n",
    "            if li[mid]>target:\n",
    "                e = mid-1\n",
    "            else:\n",
    "                s=mid+1\n",
    "    return -1\n",
    "\n",
    "print(bs(x,ord('z')))"
   ]
  },
  {
   "cell_type": "code",
   "execution_count": null,
   "metadata": {},
   "outputs": [],
   "source": []
  },
  {
   "cell_type": "code",
   "execution_count": null,
   "metadata": {},
   "outputs": [],
   "source": []
  }
 ],
 "metadata": {
  "kernelspec": {
   "display_name": "Python 3",
   "language": "python",
   "name": "python3"
  },
  "language_info": {
   "codemirror_mode": {
    "name": "ipython",
    "version": 3
   },
   "file_extension": ".py",
   "mimetype": "text/x-python",
   "name": "python",
   "nbconvert_exporter": "python",
   "pygments_lexer": "ipython3",
   "version": "3.7.8"
  }
 },
 "nbformat": 4,
 "nbformat_minor": 4
}
