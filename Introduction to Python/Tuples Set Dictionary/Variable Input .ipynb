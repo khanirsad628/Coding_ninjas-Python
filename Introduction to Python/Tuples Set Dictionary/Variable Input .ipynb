{
 "cells": [
  {
   "cell_type": "markdown",
   "metadata": {},
   "source": [
    "# Variable I/p"
   ]
  },
  {
   "cell_type": "raw",
   "metadata": {},
   "source": [
    "as say sum fun we have \n",
    "def sum(a,b,c=0):\n",
    "    return a+b+c\n",
    "    \n",
    "above function will work fine If i give 2 or 3 any i/p. So say if I want to give n no of input so what to do.\n",
    "\n",
    "say i need more input in function"
   ]
  },
  {
   "cell_type": "code",
   "execution_count": 2,
   "metadata": {},
   "outputs": [
    {
     "name": "stdout",
     "output_type": "stream",
     "text": [
      "1\n",
      "2\n",
      "()\n"
     ]
    }
   ],
   "source": [
    "def sum(a,b,*more):\n",
    "    print(a)\n",
    "    print(b)\n",
    "    print(more)\n",
    "    \n",
    "sum(1,2)"
   ]
  },
  {
   "cell_type": "raw",
   "metadata": {},
   "source": [
    "As above we can see more is empty tuple"
   ]
  },
  {
   "cell_type": "code",
   "execution_count": 11,
   "metadata": {},
   "outputs": [
    {
     "data": {
      "text/plain": [
       "16"
      ]
     },
     "execution_count": 11,
     "metadata": {},
     "output_type": "execute_result"
    }
   ],
   "source": [
    "def sum(a,b,*more):\n",
    "    s = a+b\n",
    "    for ele in more:\n",
    "        s = s+ele\n",
    "    return s\n",
    "sum(1,2,3,4,6)\n"
   ]
  },
  {
   "cell_type": "code",
   "execution_count": 13,
   "metadata": {},
   "outputs": [
    {
     "name": "stdout",
     "output_type": "stream",
     "text": [
      "<class 'tuple'>\n",
      "(5, 6, -1)\n"
     ]
    }
   ],
   "source": [
    "def sum_diff_mul(a,b):\n",
    "    return a+b,a*b,a-b\n",
    "print(type(sum_diff_mul(2,3)))\n",
    "print(sum_diff_mul(2,3))"
   ]
  },
  {
   "cell_type": "code",
   "execution_count": null,
   "metadata": {},
   "outputs": [],
   "source": []
  }
 ],
 "metadata": {
  "kernelspec": {
   "display_name": "Python 3",
   "language": "python",
   "name": "python3"
  },
  "language_info": {
   "codemirror_mode": {
    "name": "ipython",
    "version": 3
   },
   "file_extension": ".py",
   "mimetype": "text/x-python",
   "name": "python",
   "nbconvert_exporter": "python",
   "pygments_lexer": "ipython3",
   "version": "3.7.8"
  }
 },
 "nbformat": 4,
 "nbformat_minor": 4
}
