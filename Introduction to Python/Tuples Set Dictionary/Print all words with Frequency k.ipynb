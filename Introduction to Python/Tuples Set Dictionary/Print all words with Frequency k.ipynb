{
 "cells": [
  {
   "cell_type": "markdown",
   "metadata": {},
   "source": [
    "# Print all words with Frequency k"
   ]
  },
  {
   "cell_type": "code",
   "execution_count": 8,
   "metadata": {},
   "outputs": [
    {
     "name": "stdout",
     "output_type": "stream",
     "text": [
      "the birthday is the is very very bad bad world the\n",
      "3\n",
      "{'the': 3, 'birthday': 1, 'is': 2, 'very': 2, 'bad': 2, 'world': 1}\n"
     ]
    }
   ],
   "source": [
    "s = input()\n",
    "k = int(input())\n",
    "l = s.split()\n",
    "d = {}\n",
    "for ele in l:\n",
    "    if ele in d:\n",
    "        d[ele] = d[ele]+1\n",
    "    else:\n",
    "        d[ele] = 1\n",
    "print(d)"
   ]
  },
  {
   "cell_type": "code",
   "execution_count": 9,
   "metadata": {},
   "outputs": [
    {
     "name": "stdout",
     "output_type": "stream",
     "text": [
      "1\n",
      "birthday\n",
      "world\n"
     ]
    }
   ],
   "source": [
    "li = [d[ele] for ele in d]\n",
    "a = min(li)\n",
    "print(a)\n",
    "for ele in d:\n",
    "    if d[ele]==a:\n",
    "        print(ele)"
   ]
  },
  {
   "cell_type": "code",
   "execution_count": 10,
   "metadata": {},
   "outputs": [
    {
     "name": "stdout",
     "output_type": "stream",
     "text": [
      "the\n"
     ]
    }
   ],
   "source": [
    "for ele in d:\n",
    "    if d[ele]==k:\n",
    "        print(ele)"
   ]
  },
  {
   "cell_type": "code",
   "execution_count": null,
   "metadata": {},
   "outputs": [],
   "source": []
  }
 ],
 "metadata": {
  "kernelspec": {
   "display_name": "Python 3",
   "language": "python",
   "name": "python3"
  },
  "language_info": {
   "codemirror_mode": {
    "name": "ipython",
    "version": 3
   },
   "file_extension": ".py",
   "mimetype": "text/x-python",
   "name": "python",
   "nbconvert_exporter": "python",
   "pygments_lexer": "ipython3",
   "version": "3.7.8"
  }
 },
 "nbformat": 4,
 "nbformat_minor": 4
}
