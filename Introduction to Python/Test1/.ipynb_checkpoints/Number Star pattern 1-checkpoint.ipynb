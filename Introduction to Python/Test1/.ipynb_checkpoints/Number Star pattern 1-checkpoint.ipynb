{
 "cells": [
  {
   "cell_type": "raw",
   "metadata": {},
   "source": [
    "Print the following pattern for given number of rows.\n",
    "Input format :\n",
    "Integer N (Total number of rows)\n",
    "Output Format :\n",
    "Pattern in N lines\n",
    "Sample Input :\n",
    "   5\n",
    "Sample Output :\n",
    " 5432*\n",
    " 543*1\n",
    " 54*21\n",
    " 5*321\n",
    " *4321"
   ]
  },
  {
   "cell_type": "code",
   "execution_count": 1,
   "metadata": {},
   "outputs": [
    {
     "name": "stdout",
     "output_type": "stream",
     "text": [
      "5\n",
      "5432*\n",
      "543*1\n",
      "54*21\n",
      "5*321\n",
      "*4321\n"
     ]
    }
   ],
   "source": [
    "n = int(input())\n",
    "i = n\n",
    "k=1\n",
    "while(i>0):\n",
    "    j=n\n",
    "    while(j>0):\n",
    "        if j==k:\n",
    "            print(\"*\",end='')\n",
    "        else:\n",
    "            print(j,end='')\n",
    "        j = j-1\n",
    "    print()\n",
    "    k = k+1\n",
    "    i = i-1"
   ]
  },
  {
   "cell_type": "code",
   "execution_count": null,
   "metadata": {},
   "outputs": [],
   "source": []
  }
 ],
 "metadata": {
  "kernelspec": {
   "display_name": "Python 3",
   "language": "python",
   "name": "python3"
  },
  "language_info": {
   "codemirror_mode": {
    "name": "ipython",
    "version": 3
   },
   "file_extension": ".py",
   "mimetype": "text/x-python",
   "name": "python",
   "nbconvert_exporter": "python",
   "pygments_lexer": "ipython3",
   "version": "3.7.8"
  }
 },
 "nbformat": 4,
 "nbformat_minor": 4
}
