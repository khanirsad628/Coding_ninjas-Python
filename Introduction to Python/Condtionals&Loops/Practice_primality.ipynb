{
 "cells": [
  {
   "cell_type": "code",
   "execution_count": 5,
   "metadata": {},
   "outputs": [
    {
     "name": "stdout",
     "output_type": "stream",
     "text": [
      "45\n",
      "45  is not prime\n"
     ]
    }
   ],
   "source": [
    "n = int(input())\n",
    "\n",
    "i = 2\n",
    "flag = True\n",
    "if n==1 or n==2 or n==3:\n",
    "    flag=True\n",
    "else:\n",
    "    j = 2\n",
    "    while j<=int(n/2):\n",
    "        if n%j==0:\n",
    "            flag = False\n",
    "            break\n",
    "        j=j+1\n",
    "if flag==True:\n",
    "    print(n,\" is prime\")\n",
    "else:\n",
    "    print(n,\" is not prime\")"
   ]
  },
  {
   "cell_type": "code",
   "execution_count": 6,
   "metadata": {},
   "outputs": [
    {
     "name": "stdout",
     "output_type": "stream",
     "text": [
      "3\n",
      "3  is prime\n"
     ]
    }
   ],
   "source": [
    "n = int(input())\n",
    "\n",
    "i = 2\n",
    "flag = True\n",
    "if n==1 or n==2:\n",
    "    flag=True\n",
    "else:\n",
    "    j = 2\n",
    "    while j<=int(n/2):\n",
    "        if n%j==0:\n",
    "            flag = False\n",
    "            break\n",
    "        j=j+1\n",
    "if flag==True:\n",
    "    print(n,\" is prime\")\n",
    "else:\n",
    "    print(n,\" is not prime\")"
   ]
  },
  {
   "cell_type": "code",
   "execution_count": null,
   "metadata": {},
   "outputs": [],
   "source": []
  }
 ],
 "metadata": {
  "kernelspec": {
   "display_name": "Python 3",
   "language": "python",
   "name": "python3"
  },
  "language_info": {
   "codemirror_mode": {
    "name": "ipython",
    "version": 3
   },
   "file_extension": ".py",
   "mimetype": "text/x-python",
   "name": "python",
   "nbconvert_exporter": "python",
   "pygments_lexer": "ipython3",
   "version": "3.7.8"
  }
 },
 "nbformat": 4,
 "nbformat_minor": 4
}
